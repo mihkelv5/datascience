{
 "cells": [
  {
   "cell_type": "code",
   "execution_count": 7,
   "id": "f0b3cb6c",
   "metadata": {},
   "outputs": [
    {
     "name": "stdout",
     "output_type": "stream",
     "text": [
      "id                                            0\n",
      "veeallikas_id                                 0\n",
      "veeallikas                                    0\n",
      "proovi_liik                                  22\n",
      "veeliik                                       0\n",
      "proovivotu_aeg                                0\n",
      "proovivotja_nimi                              0\n",
      "proovivotja_amet                             18\n",
      "proovivotu_eesmark                            0\n",
      "proovivotu_metoodika                         15\n",
      "proovivotuprotokolli_number                  15\n",
      "proovivotukoht                               22\n",
      "katseprotokollid                             22\n",
      "proovivotja_atesteerimistunnistuse_number     1\n",
      "dtype: int64\n",
      "(22, 14)\n"
     ]
    }
   ],
   "source": [
    "import pandas as pd\n",
    "data = pd.read_xml(\"joogiveeallika_veeproovid_2023.xml\")\n",
    "print(data.isna().sum())\n",
    "print(data.shape)\n"
   ]
  }
 ],
 "metadata": {
  "kernelspec": {
   "display_name": "Python 3 (ipykernel)",
   "language": "python",
   "name": "python3"
  },
  "language_info": {
   "codemirror_mode": {
    "name": "ipython",
    "version": 3
   },
   "file_extension": ".py",
   "mimetype": "text/x-python",
   "name": "python",
   "nbconvert_exporter": "python",
   "pygments_lexer": "ipython3",
   "version": "3.11.5"
  }
 },
 "nbformat": 4,
 "nbformat_minor": 5
}
